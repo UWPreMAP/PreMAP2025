{
 "cells": [
  {
   "cell_type": "markdown",
   "id": "2e9094d1-a1aa-428d-8f56-79044c89c9e2",
   "metadata": {},
   "source": [
    "[Pre-MAP Course Website](https://canvas.uw.edu/courses/1745368) | [Pre-MAP GitHub](https://github.com/UWPreMAP/PreMAP2024) | [Google](https://www.google.com)\n",
    "\n",
    "### Each time you access the PreMAP2024 directory make sure your files are up to date\n",
    "1. Open up a terminal tab (New -> Terminal). Change directories into the PreMAP2024 directory, do this via:\n",
    "```bash\n",
    "cd PreMAP2024\n",
    "```\n",
    "2. Update the directory to get any newly added files by running in the terminal:\n",
    "```bash\n",
    "git pull\n",
    "```\n",
    "Remember to change \"Lastname\" to your last name."
   ]
  },
  {
   "cell_type": "code",
   "execution_count": null,
   "id": "94b269da-dad4-4ff1-a214-a98eef506eca",
   "metadata": {},
   "outputs": [],
   "source": [
    "import numpy as np\n",
    "import matplotlib.pyplot as plt\n",
    "\n",
    "%matplotlib inline"
   ]
  },
  {
   "cell_type": "markdown",
   "id": "79304d6f-d29a-4649-bb18-0fc8a9261b2d",
   "metadata": {},
   "source": [
    "# Introduction to astropy\n",
    "\n",
    "_This introduction is taken from [The Astropy Project](https://www.astropy.org/about.html)_.\n",
    "\n",
    "\n",
    "The Astropy Project is a community effort to develop a core package for astronomy using the Python programming language and improve usability, interoperability, and collaboration between astronomy Python packages. The core astropy package contains functionality aimed at professional astronomers and astrophysicists, but may be useful to anyone developing astronomy software.\n",
    "\n",
    "astropy contains many packages built-in. Therefore, when importing asstropy it is best to import specific packages. There are two ways to import packages or subpackages:\n",
    "\n",
    "```python\n",
    "from astropy import <package>\n",
    "from astropy.<package> import <sub-package1>,<sub-package2>...\n",
    "```\n",
    "\n",
    "Let's start with importing astronomical constants."
   ]
  },
  {
   "cell_type": "markdown",
   "id": "8e838550-4da9-4eee-bf2f-b4f36aba7758",
   "metadata": {},
   "source": [
    "## Example 1: Astronomical Constants\n",
    "\n",
    "To use constants in units from the International System (I.S.) you can import directly the desired constant or import all of them:\n",
    "\n",
    "```python\n",
    "from astropy.constants import <specific constant you want>\n",
    "from astropy import constants as const\n",
    "```\n",
    "\n",
    "Let's try out printing the speed of light c."
   ]
  },
  {
   "cell_type": "markdown",
   "id": "dfd24079-c7cd-49ad-aa68-7c59d514a436",
   "metadata": {},
   "source": [
    "### Method 1: Importing the gravitational constant"
   ]
  },
  {
   "cell_type": "code",
   "execution_count": null,
   "id": "8dd98ff6-e1ec-471e-88b0-93a1dac0fcd4",
   "metadata": {},
   "outputs": [],
   "source": [
    "from astropy.constants import c\n",
    "\n",
    "print(c)"
   ]
  },
  {
   "cell_type": "markdown",
   "id": "998879f6-2864-4259-b5dc-4f3cad8541eb",
   "metadata": {},
   "source": [
    "### Method 2: Importing all constants"
   ]
  },
  {
   "cell_type": "code",
   "execution_count": null,
   "id": "cfef154e-4e19-4974-96b8-895fb0adb728",
   "metadata": {},
   "outputs": [],
   "source": [
    "from astropy import constants as const\n",
    "\n",
    "print(const.c)"
   ]
  },
  {
   "cell_type": "markdown",
   "id": "2a30cbf2-f1d4-4259-a892-76bc8ba284aa",
   "metadata": {},
   "source": [
    "Constants are quantity objects. They can be easily converted to other units:"
   ]
  },
  {
   "cell_type": "code",
   "execution_count": null,
   "id": "1ad759af-a5be-4162-8bf9-e3134afb305f",
   "metadata": {},
   "outputs": [],
   "source": [
    "# Using method 1 convert to km/s\n",
    "\n",
    "print(c.to('km/s'))"
   ]
  },
  {
   "cell_type": "code",
   "execution_count": null,
   "id": "596d1f3c-c5d4-493a-83aa-9a1c4cff5c27",
   "metadata": {},
   "outputs": [],
   "source": [
    "# Using method 2 convert pc/yr\n",
    "\n",
    "print(const.c.to('pc/yr'))"
   ]
  },
  {
   "cell_type": "markdown",
   "id": "e46ae8ba-6145-4b6e-93e1-b46aef68c51a",
   "metadata": {},
   "source": [
    "__Print the value for the gravitational constant G. Then convert from I.S. units to cgs (centimeter-grams-seconds) units. You can use whichever method you prefer.__"
   ]
  },
  {
   "cell_type": "code",
   "execution_count": null,
   "id": "dabbb38c-d01d-4657-9321-85128f245c5e",
   "metadata": {},
   "outputs": [],
   "source": [
    "# First print the gravitational constant\n",
    "\n"
   ]
  },
  {
   "cell_type": "code",
   "execution_count": null,
   "id": "995631f8-1477-4385-9d98-8e0f48917491",
   "metadata": {},
   "outputs": [],
   "source": [
    "# Convert from m^3 / (kg s^2) to...\n",
    "\n"
   ]
  },
  {
   "cell_type": "markdown",
   "id": "9cb98d99-4eb7-4791-b3e4-315424112bdd",
   "metadata": {},
   "source": [
    "### Example 2: Astronomical Units\n",
    "\n",
    "You can also work with units. If you have a value (or list/array of values) and you would like to assign a unit to it, you can do so by importing the units package. It handles defining, converting between, and performing mathematicla operations with physical quantities, such as meters, seconds, Hz, etc. It also handles logarithmic units such as magnitude and decibel.\n",
    "\n",
    "It does not know spherical geometry or sexagesimal (hours, min, sec): if you want to deal with celestial coordinates, see the astropy.coordinates package."
   ]
  },
  {
   "cell_type": "code",
   "execution_count": null,
   "id": "b39c6281-5cfc-4b0f-ac30-c20560ec9fea",
   "metadata": {},
   "outputs": [],
   "source": [
    "from astropy import units as u\n",
    "\n",
    "print(42.0 * u.meter)"
   ]
  },
  {
   "cell_type": "code",
   "execution_count": null,
   "id": "219fb70f-d33e-4002-9160-590252cb97d4",
   "metadata": {},
   "outputs": [],
   "source": [
    "print([1., 2., 3.] * u.m)"
   ]
  },
  {
   "cell_type": "code",
   "execution_count": null,
   "id": "32eba416-98a4-4890-a1fb-cd2b272a95c0",
   "metadata": {},
   "outputs": [],
   "source": [
    "print(np.array([1., 2., 3.]) * u.m)"
   ]
  },
  {
   "cell_type": "markdown",
   "id": "71ff7bb4-e2d5-4d87-9a55-6b1652d6c07d",
   "metadata": {},
   "source": [
    "You can get the unit and value from a Quantity using the unit and value members:"
   ]
  },
  {
   "cell_type": "code",
   "execution_count": null,
   "id": "50953831-dfee-4161-87a1-af449e342f3e",
   "metadata": {},
   "outputs": [],
   "source": [
    "q = 42.0 * u.meter\n",
    "\n",
    "print(q.value)\n",
    "print(q.unit)"
   ]
  },
  {
   "cell_type": "markdown",
   "id": "7c4f65b1-80b4-464d-8d0d-3ed793a5daf6",
   "metadata": {},
   "source": [
    "From this basic building block, it is possible to start combining quantities with different units:"
   ]
  },
  {
   "cell_type": "code",
   "execution_count": null,
   "id": "b01acaf3-090c-401d-b599-9c6ad79949fd",
   "metadata": {},
   "outputs": [],
   "source": [
    "print(15.1 * u.meter / (32.0 * u.second))\n",
    "print(3.0 * u.kilometer / (130.51 * u.meter / u.second))\n",
    "print((3.0 * u.kilometer / (130.51 * u.meter / u.second)).decompose())"
   ]
  },
  {
   "cell_type": "markdown",
   "id": "0d416a53-db2b-459e-8cec-af519ddfa330",
   "metadata": {},
   "source": [
    "Unit conversion is done using the to() method, which returns a new Quantity in the given unit:"
   ]
  },
  {
   "cell_type": "code",
   "execution_count": null,
   "id": "183b32b4-541c-40ce-b35d-208fbe4e0f98",
   "metadata": {},
   "outputs": [],
   "source": [
    "x = 1.0 * u.parsec\n",
    "x.to(u.km)  "
   ]
  },
  {
   "cell_type": "markdown",
   "id": "c0564c8d-3395-4972-9959-4c1cab195eed",
   "metadata": {},
   "source": [
    "Units that “cancel out” become a special unit called the “dimensionless unit”:"
   ]
  },
  {
   "cell_type": "code",
   "execution_count": null,
   "id": "a4a307a1-e41e-425c-9240-7052d837f3ad",
   "metadata": {},
   "outputs": [],
   "source": [
    "x = 3.0 * u.m\n",
    "y = 5.0 * u.m\n",
    "\n",
    "print(x / y)"
   ]
  },
  {
   "cell_type": "markdown",
   "id": "88962c46-482d-4462-90c8-8096fa161d2e",
   "metadata": {},
   "source": [
    "__Create an array of 20 numbers from 0.5 to 5.0 (included) with units of astronomical units (au) representing the semi-major axis of the planet. Then calculate the period of the planet at each distance using Kepler's Third Law (expanded equation):__\n",
    "\n",
    "![Equation of Kepler's Third Law](data/Keplers_3rdlaw.png)\n",
    "\n",
    "Where the central mass object for this example is the Sun with a mass of 1.989e30kg. Your result should be in years."
   ]
  },
  {
   "cell_type": "code",
   "execution_count": null,
   "id": "8c744aa5-5b7e-48b2-bbb4-60beeac8afb6",
   "metadata": {},
   "outputs": [],
   "source": [
    "# Let's create the array of the semi-major axis\n",
    "semimajor = \n",
    "\n",
    "# Assign to a variable the mass of the Sun\n",
    "m_sun = \n",
    "\n",
    "# Create a new variable to store the gravitational constant in the desired units (remember we want the result in years \n",
    "# the distance of the planet is stored in AU).\n",
    "\n"
   ]
  },
  {
   "cell_type": "code",
   "execution_count": null,
   "id": "030f2c45-07a1-455a-a546-9cc2932ab5a6",
   "metadata": {},
   "outputs": [],
   "source": [
    "# Calculate the period using the first equation (make sure to solve for T on the equation above!)\n",
    "\n",
    "\n",
    "# Print out your result\n",
    "\n"
   ]
  },
  {
   "cell_type": "markdown",
   "id": "0aca6fdd-d896-4a15-9886-cea97b5210cc",
   "metadata": {},
   "source": [
    "# Using AI to assist in coding\n",
    "\n",
    "Recently AI has been growing exponentially and it has become accessible for almost everyone. This [Ted Talk](https://youtu.be/nv9WwHpOKEg?si=TdLn_MtuUkkEvvhO) from the CEO of Github talks about how AI can be used coding. You can use AI to assist you when coding and not being able to find answers. Some AI models you can use to code are ChatGPT, Github Copilot, etc. However, it is important to note that:\n",
    "\n",
    "1. AI is not all knowing and sometimes can \"lie\" (it would say something is correct when in fact is not).\n",
    "2. Sometimes it would create code that you might not understand and would make it harder to explain to yourself or colleagues. It could sometimes create a bug in your code due to misinformation or not fully understanding what you are trying to do. It is important to validate the output from the AI you use to assist you.\n",
    "3. While coding in astronomy might not influence much the everyday life of others, it is important to understand the ethics about AI and how it could further increase biases on our social system. [This short video](https://youtu.be/tJQSyzBUAew?si=WxrLWhOWXoTANjJM) explains how we have to be ethical when using AI.\n",
    "4. Take things with a grain of salt. Be critical about what the AI tells you."
   ]
  },
  {
   "cell_type": "code",
   "execution_count": null,
   "id": "9c4811d6-40ef-4385-9bca-66f28d8b6778",
   "metadata": {},
   "outputs": [],
   "source": []
  }
 ],
 "metadata": {
  "kernelspec": {
   "display_name": "Python 3 (ipykernel)",
   "language": "python",
   "name": "python3"
  },
  "language_info": {
   "codemirror_mode": {
    "name": "ipython",
    "version": 3
   },
   "file_extension": ".py",
   "mimetype": "text/x-python",
   "name": "python",
   "nbconvert_exporter": "python",
   "pygments_lexer": "ipython3",
   "version": "3.10.13"
  }
 },
 "nbformat": 4,
 "nbformat_minor": 5
}
